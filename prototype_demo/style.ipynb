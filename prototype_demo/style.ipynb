{
 "cells": [
  {
   "cell_type": "markdown",
   "metadata": {},
   "source": [
    "# Style\n",
    "A film is more than just dialogue. There are many emotional and style features meant to influence the emotional impact. Below are three types for which we can look. They each don't quite have a definitive meaning, but we can still infer some information from each. See the Readme in the directory root to follow along with the illustrations."
   ]
  },
  {
   "cell_type": "code",
   "execution_count": 1,
   "metadata": {},
   "outputs": [
    {
     "name": "stderr",
     "output_type": "stream",
     "text": [
      "C:\\Users\\lkrpan\\Anaconda3\\lib\\site-packages\\scipy\\__init__.py:146: UserWarning: A NumPy version >=1.16.5 and <1.23.0 is required for this version of SciPy (detected version 1.23.2\n",
      "  warnings.warn(f\"A NumPy version >={np_minversion} and <{np_maxversion}\"\n"
     ]
    }
   ],
   "source": [
    "import sys\n",
    "sys.path.append('../unifying_features')\n",
    "sys.path.append('../data_serialization')\n",
    "sys.path.append('../vision_features')\n",
    "from serialization_preprocessing_io import *\n",
    "from time_reference_io import *\n",
    "from film_details_io import *\n",
    "from vision_features_io import *"
   ]
  },
  {
   "cell_type": "markdown",
   "metadata": {},
   "source": [
    "# Color Shots\n",
    "Movie frames (and all images) can be divided into their RGB components. Three values for the average amounts of red, blue, and green in each pixel. These three values tend to be relatively balanced. We can look for frames where these aren't balanced: images that skew toward one of the primary additive colors red, blue, or green; or images that lack one of the primary additive colors, skewing toward the secondary colors yellow, cyan, or magenta.\n",
    "\n",
    "These color images may be a result of creative lighting, or just the context of the scene (e.g. underwater or containing fire).\n",
    "\n",
    "In the three most prominent examples from *Booksmart* (2019), these shots are all from dialogue-free set pieces.\n",
    "\n",
    "- An underwater scene of a character searching for another character\n",
    "- A dream sequence bathed in neon light in which a character imagines herself dancing with another character\n",
    "- A karaoke scene filled with projections of lyrics and colored lighting"
   ]
  },
  {
   "cell_type": "code",
   "execution_count": 2,
   "metadata": {},
   "outputs": [],
   "source": [
    "film = 'margaux'\n",
    "srt_df, subtitle_df, sentence_df, vision_df, face_df = read_pickle(film)"
   ]
  },
  {
   "cell_type": "code",
   "execution_count": 3,
   "metadata": {},
   "outputs": [
    {
     "data": {
      "text/plain": [
       "[1,\n",
       " 595,\n",
       " 596,\n",
       " 607,\n",
       " 609,\n",
       " 612,\n",
       " 625,\n",
       " 628,\n",
       " 632,\n",
       " 634,\n",
       " 635,\n",
       " 639,\n",
       " 641,\n",
       " 643,\n",
       " 649,\n",
       " 680,\n",
       " 798,\n",
       " 824,\n",
       " 825,\n",
       " 827,\n",
       " 830,\n",
       " 831,\n",
       " 833,\n",
       " 888,\n",
       " 889,\n",
       " 891,\n",
       " 898,\n",
       " 903,\n",
       " 904,\n",
       " 909,\n",
       " 917,\n",
       " 929,\n",
       " 933,\n",
       " 1636,\n",
       " 1639,\n",
       " 2004]"
      ]
     },
     "execution_count": 3,
     "metadata": {},
     "output_type": "execute_result"
    }
   ],
   "source": [
    "get_color_shots(vision_df)"
   ]
  },
  {
   "cell_type": "markdown",
   "metadata": {},
   "source": [
    "# Non-Conforming Aspect Ratio\n",
    "Certain shots of a film might be displayed in an aspect ratio different than the rest of the film. One example is using a more widescreen aspect ratio when showing a \"film within a film\". Another is making the image more square for an \"old-timey\" look to show something happening in the past.\n",
    "\n",
    "We've identified these shots in *Booksmart*, all of which are footage characters are watching on their phone."
   ]
  },
  {
   "cell_type": "code",
   "execution_count": 4,
   "metadata": {},
   "outputs": [
    {
     "data": {
      "text/plain": [
       "[1155,\n",
       " 1927,\n",
       " 914,\n",
       " 19,\n",
       " 794,\n",
       " 1964,\n",
       " 565,\n",
       " 566,\n",
       " 1205,\n",
       " 1206,\n",
       " 1209,\n",
       " 1210,\n",
       " 1211,\n",
       " 1212,\n",
       " 830,\n",
       " 454,\n",
       " 1223,\n",
       " 456,\n",
       " 713,\n",
       " 1995,\n",
       " 1232,\n",
       " 339,\n",
       " 1239,\n",
       " 605,\n",
       " 1632,\n",
       " 97,\n",
       " 99,\n",
       " 100,\n",
       " 101,\n",
       " 1253,\n",
       " 103,\n",
       " 615,\n",
       " 361,\n",
       " 362,\n",
       " 617,\n",
       " 364,\n",
       " 745,\n",
       " 1255,\n",
       " 1256,\n",
       " 368,\n",
       " 1258,\n",
       " 626,\n",
       " 1265,\n",
       " 628,\n",
       " 1266,\n",
       " 1778,\n",
       " 1780,\n",
       " 1656]"
      ]
     },
     "execution_count": 4,
     "metadata": {},
     "output_type": "execute_result"
    }
   ],
   "source": [
    "frame_before_credits = face_df[face_df['faces_found'] > 0].tail(1).index[0] # remove credits by finding last face\n",
    "vision_nocreds_df = vision_df[0:frame_before_credits].copy()\n",
    "get_nonconform_aspect_ratio_shots(vision_nocreds_df)"
   ]
  },
  {
   "cell_type": "markdown",
   "metadata": {},
   "source": [
    "# Long Take\n",
    "A long take is a shot that's held for a long period of time. Think of the action sequences from *Children of Men* (2006). A long shot builds tension and suspense. It's not just for action scenes, they're effective for dialogue as well. \n",
    "\n",
    "There are four examples from the sports drama *Ford v Ferrari* (2019), each with a different application.\n",
    "- A character delivers a monologue about the challenges of endurance racing\n",
    "- A character, unsure of what to say, talks a long-winded gambit to a company executive\n",
    "- A character has a conversation with his son about the mythical \"perfect lap\"\n",
    "- A character rides (drives) into the sunset"
   ]
  },
  {
   "cell_type": "code",
   "execution_count": 5,
   "metadata": {},
   "outputs": [
    {
     "data": {
      "text/plain": [
       "[(1537, 1559),\n",
       " (2928, 2953),\n",
       " (5931, 5964),\n",
       " (2705, 2736),\n",
       " (12, 37),\n",
       " (4885, 4905),\n",
       " (3823, 3861),\n",
       " (4095, 4114),\n",
       " (968, 987)]"
      ]
     },
     "execution_count": 5,
     "metadata": {},
     "output_type": "execute_result"
    }
   ],
   "source": [
    "film = 'margaux'\n",
    "srt_df, subtitle_df, sentence_df, vision_df, face_df = read_pickle(film)\n",
    "frame_before_credits = face_df[face_df['faces_found'] > 0].tail(1).index[0]\n",
    "vision_nocreds_df = vision_df[0:frame_before_credits].copy()\n",
    "get_long_takes(vision_nocreds_df, duration_threshold=20)"
   ]
  },
  {
   "cell_type": "markdown",
   "metadata": {},
   "source": [
    "We've only looked at three types of style features, but there are many others in cinema, all used to represent different ideas or shape emotional response. We can interpret these to help parse a film's intended meaning."
   ]
  }
 ],
 "metadata": {
  "kernelspec": {
   "display_name": "Python 3 (ipykernel)",
   "language": "python",
   "name": "python3"
  },
  "language_info": {
   "codemirror_mode": {
    "name": "ipython",
    "version": 3
   },
   "file_extension": ".py",
   "mimetype": "text/x-python",
   "name": "python",
   "nbconvert_exporter": "python",
   "pygments_lexer": "ipython3",
   "version": "3.9.12"
  }
 },
 "nbformat": 4,
 "nbformat_minor": 4
}
