{
 "cells": [
  {
   "cell_type": "markdown",
   "metadata": {},
   "source": [
    "# Scene Audio\n",
    "In `scene_boundary_partitioning.ipynb`, in `unifying_features/`, we demonstrated how we can identify individual two-character dialogue scenes. We'll want to conduct some audio analysis on the scene's audio.\n",
    "\n",
    "We can extract the film's *entire* audio track. However, this presents a challenge because most audio analyses will have memory constraints if loading the entire audio track. We can solve this by extracting just a portion of the film's audio file. We'll take the saved audio file from `/input_audio/`, create a new audio file with just the scene's audio, and then save it to `/extracted_audio/(film_name)/`.\n",
    "\n",
    "We'll use the ffmpeg-python library, which is a Python wrapper for the ffmpeg suite of audio/video tools."
   ]
  },
  {
   "cell_type": "code",
   "execution_count": 1,
   "metadata": {},
   "outputs": [],
   "source": [
    "import os\n",
    "import sys\n",
    "import ffmpeg\n",
    "sys.path.append('../unifying_features')\n",
    "sys.path.append('../data_serialization')\n",
    "from serialization_preprocessing_io import *\n",
    "from scene_identification_io import *"
   ]
  },
  {
   "cell_type": "markdown",
   "metadata": {},
   "source": [
    "We'll start by identifying the film's scenes."
   ]
  },
  {
   "cell_type": "code",
   "execution_count": 2,
   "metadata": {},
   "outputs": [],
   "source": [
    "film = 'lost_in_translation_2003'\n",
    "srt_df, subtitle_df, sentence_df, vision_df, face_df = read_pickle(film)\n",
    "scene_dictionaries = generate_scenes(vision_df, face_df, substantial_minimum=4, anchor_search=6)"
   ]
  },
  {
   "cell_type": "code",
   "execution_count": 3,
   "metadata": {},
   "outputs": [
    {
     "data": {
      "text/plain": [
       "{'scene_id': 1,\n",
       " 'first_frame': 1929,\n",
       " 'last_frame': 2082,\n",
       " 'scene_duration': 154,\n",
       " 'left_anchor_shot_cluster': 207,\n",
       " 'left_anchor_face_cluster': 6.0,\n",
       " 'matching_left_face_clusters': [],\n",
       " 'right_anchor_shot_cluster': 66,\n",
       " 'right_anchor_face_cluster': 17.0,\n",
       " 'matching_right_face_clusters': [18.0, 12.0],\n",
       " 'cutaway_shot_clusters': [7, 29, 142]}"
      ]
     },
     "execution_count": 3,
     "metadata": {},
     "output_type": "execute_result"
    }
   ],
   "source": [
    "scene_dict = scene_dictionaries[1]\n",
    "scene_dict"
   ]
  },
  {
   "cell_type": "markdown",
   "metadata": {},
   "source": [
    "We'll be taking the film's entire audio track as the input file, located in `/input_audio/`. We then designate it as the input_stream using `ffmpeg.input()`."
   ]
  },
  {
   "cell_type": "code",
   "execution_count": 4,
   "metadata": {},
   "outputs": [
    {
     "data": {
      "text/plain": [
       "'../input_audio/lost_in_translation_2003.wav'"
      ]
     },
     "execution_count": 4,
     "metadata": {},
     "output_type": "execute_result"
    }
   ],
   "source": [
    "input_audio_file = os.path.join('../input_audio/' + film + '.wav')\n",
    "input_audio_file"
   ]
  },
  {
   "cell_type": "code",
   "execution_count": 5,
   "metadata": {},
   "outputs": [],
   "source": [
    "input_stream = ffmpeg.input(input_audio_file)"
   ]
  },
  {
   "cell_type": "markdown",
   "metadata": {},
   "source": [
    "We'll extract audio for the first scene, and name it based on the frame numbers, in a folder named for the film in `/extracted_audio/`."
   ]
  },
  {
   "cell_type": "code",
   "execution_count": 6,
   "metadata": {},
   "outputs": [
    {
     "data": {
      "text/plain": [
       "'../extracted_audio/lost_in_translation_2003/1929_2082.wav'"
      ]
     },
     "execution_count": 6,
     "metadata": {},
     "output_type": "execute_result"
    }
   ],
   "source": [
    "first = str(scene_dict['first_frame'])\n",
    "last = str(scene_dict['last_frame'])\n",
    "\n",
    "extracted_file_name = os.path.join('../extracted_audio', film, first + '_' + last + '.wav')\n",
    "extracted_file_name"
   ]
  },
  {
   "cell_type": "markdown",
   "metadata": {},
   "source": [
    "Once we have the input and output files designated, we can begin the extraction process. ffmpeg is a suite of audio/video manipulation tools that is typically run on the command line. Arguments are included with the input/output files to designate exactly how the input file should be manipulated/converted. Luckily, ffmpeg-python makes it easy to use these arguments when performing these conversions in Python. Below is the bash command we would normally use in the command line."
   ]
  },
  {
   "cell_type": "code",
   "execution_count": 7,
   "metadata": {},
   "outputs": [],
   "source": [
    "# bash command-line command\n",
    "# ffmpeg -ss 1929 -i lost_in_translation_2003.wav -ac 2 -t 154 lost_in_translation_2003/1929_2082.wav"
   ]
  },
  {
   "cell_type": "markdown",
   "metadata": {},
   "source": [
    "Here's a breakdown of those arguments:\n",
    "- ss 1929: position of 1929 seconds (or the scene's beginning)\n",
    "- ac 2: two-channel (stereo) audio, necessary for processing by pyAudioAnalysis\n",
    "- t 154: duration of 154 seconds (or the duration of the scene)\n",
    "\n",
    "For the scene-specific arguments (position and duration), we can define them according to scene_dict values."
   ]
  },
  {
   "cell_type": "code",
   "execution_count": 8,
   "metadata": {},
   "outputs": [],
   "source": [
    "out = ffmpeg.output(input_stream, extracted_file_name, ss=scene_dict['first_frame'], ac=2, t=scene_dict['scene_duration'])"
   ]
  },
  {
   "cell_type": "code",
   "execution_count": 9,
   "metadata": {},
   "outputs": [
    {
     "data": {
      "text/plain": [
       "(None, None)"
      ]
     },
     "execution_count": 9,
     "metadata": {},
     "output_type": "execute_result"
    }
   ],
   "source": [
    "ffmpeg.run(out)"
   ]
  },
  {
   "cell_type": "markdown",
   "metadata": {},
   "source": [
    "We now have a .wav file in `/extracted_audio/lost_in_translation_2003/` titled `1929_2082.wav`, containing just the two-channel audio of a specific scene. This is available as a function `extract_scene_audio()` in `audio_processing.py`."
   ]
  }
 ],
 "metadata": {
  "kernelspec": {
   "display_name": "Python (moviegoer)",
   "language": "python",
   "name": "moviegoer"
  },
  "language_info": {
   "codemirror_mode": {
    "name": "ipython",
    "version": 3
   },
   "file_extension": ".py",
   "mimetype": "text/x-python",
   "name": "python",
   "nbconvert_exporter": "python",
   "pygments_lexer": "ipython3",
   "version": "3.7.7"
  }
 },
 "nbformat": 4,
 "nbformat_minor": 4
}
