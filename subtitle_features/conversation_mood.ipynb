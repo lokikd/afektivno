{
 "cells": [
  {
   "cell_type": "markdown",
   "metadata": {},
   "source": [
    "# conversation_mood\n",
    "One goal of *Moviegoer* is calculating and comparing the emotional aspects of scenes' conversations. We can quantify a conversation's mood/vibe in various ways."
   ]
  },
  {
   "cell_type": "code",
   "execution_count": 1,
   "metadata": {},
   "outputs": [],
   "source": [
    "from subtitle_dataframes_io import *\n",
    "nlp = spacy.load('en')"
   ]
  },
  {
   "cell_type": "code",
   "execution_count": 2,
   "metadata": {},
   "outputs": [],
   "source": [
    "subs = pysrt.open('../subtitles/plus_one_2019.srt')\n",
    "subtitle_df = generate_base_subtitle_df(subs)\n",
    "subtitle_df = generate_subtitle_features(subtitle_df)\n",
    "subtitle_df['cleaned_text'] = subtitle_df['concat_sep_text'].map(clean_line)\n",
    "sentences = partition_sentences(remove_blanks(subtitle_df['cleaned_text'].tolist()), nlp)\n",
    "subtitle_indices = tie_sentence_subtitle_indices(sentences, subtitle_df)\n",
    "sentence_df = pd.DataFrame(list(zip(sentences, subtitle_indices)), columns=['sentence', 'subtitle_indices'])"
   ]
  },
  {
   "cell_type": "markdown",
   "metadata": {},
   "source": [
    "## Profanity\n",
    "The easiest way to measure drama is by identifying and counting profanity. We can define a list of profanities for which to search. Then we'll break the sentence into lemma, so that we can find derivations in the vein of \"hecked\", \"heckin'\", \"hecking\", \"hecky\", etc.\n",
    "\n",
    "This is defined as a function *profanity()* in *phrases_io.py* and is used to find profanity at the scene- and film-level. These can be compared to find scenes with higher profanity than the film average."
   ]
  },
  {
   "cell_type": "code",
   "execution_count": 3,
   "metadata": {},
   "outputs": [
    {
     "data": {
      "text/plain": [
       "\"He's fucking talking about babies.\""
      ]
     },
     "execution_count": 3,
     "metadata": {},
     "output_type": "execute_result"
    }
   ],
   "source": [
    "sentence = sentence_df.iloc[814].sentence\n",
    "sentence"
   ]
  },
  {
   "cell_type": "code",
   "execution_count": 4,
   "metadata": {},
   "outputs": [
    {
     "data": {
      "text/plain": [
       "1"
      ]
     },
     "execution_count": 4,
     "metadata": {},
     "output_type": "execute_result"
    }
   ],
   "source": [
    "sent_doc = nlp(sentence)\n",
    "profanity_count = 0\n",
    "\n",
    "profanities = ['fuck', 'fucking', 'fuckin', 'fucked', 'shit', 'shitty', 'bullshit', 'ass', 'dumbass', 'bitch', 'asshole', 'tit', 'cunt', 'goddamn', 'damn', 'dammit', 'cock', 'cocksucker', 'dick']\n",
    "for word in sent_doc:\n",
    "    if word.lemma_.lower() in profanities:\n",
    "        profanity_count += 1\n",
    "\n",
    "profanity_count\n"
   ]
  },
  {
   "cell_type": "markdown",
   "metadata": {},
   "source": [
    "## Cadence (Conversation Speed)\n",
    "Cadence, or conversation speed, is an easy way to quantify a scene's conversation. Comedies might fire off jokes at lightning-speed. Introspective dramas might have characters speak very slowly.\n",
    "\n",
    "Since we can now identify specific scenes, let's measure the cadence of a scene."
   ]
  },
  {
   "cell_type": "code",
   "execution_count": 5,
   "metadata": {},
   "outputs": [],
   "source": [
    "import sys\n",
    "sys.path.append('../data_serialization')\n",
    "from serialization_preprocessing_io import *\n",
    "from time_reference_io import *\n",
    "from scene_identification_io import *\n",
    "from scene_details_io import *\n",
    "from character_identification_io import *\n",
    "from character_details_io import *"
   ]
  },
  {
   "cell_type": "code",
   "execution_count": 6,
   "metadata": {},
   "outputs": [],
   "source": [
    "film = 'plus_one_2019'\n",
    "srt_df, subtitle_df, sentence_df, vision_df, face_df = read_pickle(film)\n",
    "scene_dictionaries = generate_scenes(vision_df, face_df, substantial_minimum=4, anchor_search=8)\n",
    "character_dictionaries = generate_characters(scene_dictionaries)"
   ]
  },
  {
   "cell_type": "code",
   "execution_count": 8,
   "metadata": {},
   "outputs": [],
   "source": [
    "scene_dict = scene_dictionaries[7]\n",
    "scene_duration = scene_dict['last_frame'] + 1 - scene_dict['first_frame']\n",
    "scene_subtitle_df = subtitle_df[(subtitle_df['end_time'] > scene_start_time) & (subtitle_df['start_time'] < scene_end_time)].copy()"
   ]
  },
  {
   "cell_type": "markdown",
   "metadata": {},
   "source": [
    "We simply take the words per minute."
   ]
  },
  {
   "cell_type": "code",
   "execution_count": 10,
   "metadata": {},
   "outputs": [
    {
     "data": {
      "text/plain": [
       "25.90909090909091"
      ]
     },
     "execution_count": 10,
     "metadata": {},
     "output_type": "execute_result"
    }
   ],
   "source": [
    "cadence = len(scene_subtitle_df) / (scene_duration / 60)\n",
    "cadence"
   ]
  },
  {
   "cell_type": "markdown",
   "metadata": {},
   "source": [
    "We can define three speed categories: fast, medium, and slow."
   ]
  },
  {
   "cell_type": "code",
   "execution_count": 11,
   "metadata": {},
   "outputs": [
    {
     "name": "stdout",
     "output_type": "stream",
     "text": [
      "This scene has a medium cadence, with a conversation speed of 26 sentences per minute.\n"
     ]
    }
   ],
   "source": [
    "    if round(cadence) >= 35:\n",
    "        print('This scene has a fast cadence, with a conversation speed of', round(cadence), 'sentences per minute.')\n",
    "    elif round(cadence) < 20:\n",
    "        print('This scene has a slow cadence, with a conversation speed of', round(cadence), 'sentences per minute.')\n",
    "    else:\n",
    "        print('This scene has a medium cadence, with a conversation speed of', round(cadence), 'sentences per minute.')"
   ]
  }
 ],
 "metadata": {
  "kernelspec": {
   "display_name": "Python (moviegoer)",
   "language": "python",
   "name": "moviegoer"
  },
  "language_info": {
   "codemirror_mode": {
    "name": "ipython",
    "version": 3
   },
   "file_extension": ".py",
   "mimetype": "text/x-python",
   "name": "python",
   "nbconvert_exporter": "python",
   "pygments_lexer": "ipython3",
   "version": "3.7.7"
  }
 },
 "nbformat": 4,
 "nbformat_minor": 4
}
