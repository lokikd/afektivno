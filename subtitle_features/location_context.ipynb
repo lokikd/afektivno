{
 "cells": [
  {
   "cell_type": "markdown",
   "metadata": {},
   "source": [
    "# Location Context\n",
    "To understand more about the scene, we can read more into the subtitles. A scene at a restaurant might have dialogue that indicates its location, like \"What can I get you?\" or \"Check, please.\" A scene in a car might have the sound effects, and more importantly, SDH subtitles of \"(engine roaring)\". We can look at both dialogue and subtitle parenthetical labels."
   ]
  },
  {
   "cell_type": "code",
   "execution_count": 1,
   "metadata": {},
   "outputs": [],
   "source": [
    "from subtitle_dataframes_io import *\n",
    "from collections import Counter\n",
    "from datetime import datetime, date, timedelta\n",
    "nlp = spacy.load('en')"
   ]
  },
  {
   "cell_type": "code",
   "execution_count": 2,
   "metadata": {},
   "outputs": [],
   "source": [
    "subs = pysrt.open('../subtitles/lost_in_translation_2003.srt')\n",
    "subtitle_df = generate_base_subtitle_df(subs)\n",
    "subtitle_df = generate_subtitle_features(subtitle_df)\n",
    "subtitle_df['cleaned_text'] = subtitle_df['concat_sep_text'].map(clean_line)\n",
    "sentences = partition_sentences(remove_blanks(subtitle_df['cleaned_text'].tolist()), nlp)\n",
    "subtitle_indices = tie_sentence_subtitle_indices(sentences, subtitle_df)\n",
    "sentence_df = pd.DataFrame(list(zip(sentences, subtitle_indices)), columns=['sentence', 'subtitle_indices'])"
   ]
  },
  {
   "cell_type": "markdown",
   "metadata": {},
   "source": [
    "## Scene Location Contextual Dialogue\n",
    "We can check for dialogue common to certain types of scenes. A restaurant scene may have a waiter taking an order."
   ]
  },
  {
   "cell_type": "code",
   "execution_count": 3,
   "metadata": {},
   "outputs": [
    {
     "data": {
      "text/plain": [
       "'What can I get you?'"
      ]
     },
     "execution_count": 3,
     "metadata": {},
     "output_type": "execute_result"
    }
   ],
   "source": [
    "sentence = sentence_df.iloc[566].sentence\n",
    "sentence"
   ]
  },
  {
   "cell_type": "code",
   "execution_count": 4,
   "metadata": {},
   "outputs": [],
   "source": [
    "restaurant_dialogue = ['what can i get you', 'check please', 'check, please']"
   ]
  },
  {
   "cell_type": "code",
   "execution_count": 5,
   "metadata": {
    "scrolled": true
   },
   "outputs": [
    {
     "name": "stdout",
     "output_type": "stream",
     "text": [
      "scene possibly in restaurant\n"
     ]
    }
   ],
   "source": [
    "for dialogue in restaurant_dialogue:\n",
    "    if dialogue in sentence.lower():\n",
    "        print('scene possibly in restaurant')"
   ]
  },
  {
   "cell_type": "markdown",
   "metadata": {},
   "source": [
    "Below is a running list of contextual dialogue."
   ]
  },
  {
   "cell_type": "code",
   "execution_count": 6,
   "metadata": {},
   "outputs": [],
   "source": [
    "restaurant_dialogue = ['what can i get you', 'check please', 'check, please']\n",
    "casino_dialogue = ['no more bets']\n",
    "airport_dialogue = ['final boarding call']"
   ]
  },
  {
   "cell_type": "markdown",
   "metadata": {},
   "source": [
    "## Scene Location Contextual Parenthetical\n",
    "We can also look for parentheticals, to identify types of scenes or locations."
   ]
  },
  {
   "cell_type": "code",
   "execution_count": 7,
   "metadata": {},
   "outputs": [],
   "source": [
    "subs = pysrt.open('../subtitles/booksmart_2019.srt')\n",
    "subtitle_df = generate_base_subtitle_df(subs)\n",
    "subtitle_df = generate_subtitle_features(subtitle_df)\n",
    "subtitle_df['cleaned_text'] = subtitle_df['concat_sep_text'].map(clean_line)\n",
    "sentences = partition_sentences(remove_blanks(subtitle_df['cleaned_text'].tolist()), nlp)\n",
    "subtitle_indices = tie_sentence_subtitle_indices(sentences, subtitle_df)\n",
    "sentence_df = pd.DataFrame(list(zip(sentences, subtitle_indices)), columns=['sentence', 'subtitle_indices'])"
   ]
  },
  {
   "cell_type": "code",
   "execution_count": 8,
   "metadata": {},
   "outputs": [
    {
     "data": {
      "text/plain": [
       "'tires screeching'"
      ]
     },
     "execution_count": 8,
     "metadata": {},
     "output_type": "execute_result"
    }
   ],
   "source": [
    "parenthetical_1 = subtitle_df.iloc[2419].parenthetical\n",
    "parenthetical_1"
   ]
  },
  {
   "cell_type": "code",
   "execution_count": 9,
   "metadata": {},
   "outputs": [
    {
     "data": {
      "text/plain": [
       "'engine revving'"
      ]
     },
     "execution_count": 9,
     "metadata": {},
     "output_type": "execute_result"
    }
   ],
   "source": [
    "parenthetical_2 = subtitle_df.iloc[2393].parenthetical\n",
    "parenthetical_2"
   ]
  },
  {
   "cell_type": "code",
   "execution_count": 10,
   "metadata": {},
   "outputs": [],
   "source": [
    "car_parenthetical = ['engine starts', 'tires screeching', 'engine revving']"
   ]
  },
  {
   "cell_type": "code",
   "execution_count": 11,
   "metadata": {},
   "outputs": [
    {
     "name": "stdout",
     "output_type": "stream",
     "text": [
      "scene possibly in car\n"
     ]
    }
   ],
   "source": [
    "for parenthetical in car_parenthetical:\n",
    "    if parenthetical in parenthetical_1.lower():\n",
    "        print('scene possibly in car')"
   ]
  },
  {
   "cell_type": "code",
   "execution_count": 12,
   "metadata": {},
   "outputs": [
    {
     "name": "stdout",
     "output_type": "stream",
     "text": [
      "scene possibly in car\n"
     ]
    }
   ],
   "source": [
    "for parenthetical in car_parenthetical:\n",
    "    if parenthetical in parenthetical_2.lower():\n",
    "        print('scene possibly in car')"
   ]
  },
  {
   "cell_type": "markdown",
   "metadata": {},
   "source": [
    "Below is a running list of contextual parentheticals."
   ]
  },
  {
   "cell_type": "code",
   "execution_count": 13,
   "metadata": {},
   "outputs": [],
   "source": [
    "car_parenthetical = ['engine starts', 'engine rev', 'engine roar', 'tires screech', 'brakes screech', 'hand brake', 'handbrake']\n",
    "train_parenthetical = ['brakes screech', 'train whistle']\n",
    "bathroom_parenthetical = ['toilet', 'flush']\n",
    "elevator_parenthetical = ['elevator bell']\n",
    "airport_parenthetical = ['plane passes overhead', 'plane flies overhead']"
   ]
  },
  {
   "cell_type": "markdown",
   "metadata": {},
   "source": [
    "## Scene Location Context Speaker\n",
    "If a character is speaking from offscreen, they are usually labeled. Sometimes this is the character name, but if it's a generic, unnamed character, it may be something like \"Pilot\" or \"Waiter\". This can give us important clues to the context of the scene."
   ]
  },
  {
   "cell_type": "code",
   "execution_count": 14,
   "metadata": {},
   "outputs": [],
   "source": [
    "airplane_speaker = ['pilot', 'flight attendant']"
   ]
  },
  {
   "cell_type": "code",
   "execution_count": 15,
   "metadata": {},
   "outputs": [],
   "source": [
    "offscreen_speaker = 'PILOT'"
   ]
  },
  {
   "cell_type": "code",
   "execution_count": 16,
   "metadata": {},
   "outputs": [
    {
     "name": "stdout",
     "output_type": "stream",
     "text": [
      "scene possibly in airplane\n"
     ]
    }
   ],
   "source": [
    "for phrase in airplane_speaker:\n",
    "    if phrase in offscreen_speaker.lower():\n",
    "        print('scene possibly in airplane')"
   ]
  },
  {
   "cell_type": "markdown",
   "metadata": {},
   "source": [
    "Below is a running list of contextual speakers."
   ]
  },
  {
   "cell_type": "code",
   "execution_count": 17,
   "metadata": {},
   "outputs": [],
   "source": [
    "airplane_speaker = ['pilot', 'flight attendant']\n",
    "restaurant_speaker = ['waiter', 'waitress']\n",
    "wheel_speaker = ['driver']\n",
    "reception_speaker = ['receptionist']\n",
    "casino_speaker = ['dealer', 'gambler', 'pit boss', 'croupier']\n",
    "party_speaker = ['deejay']\n",
    "train_speaker = ['train attendant']\n",
    "school_speaker = ['teacher', 'principal', 'student']"
   ]
  },
  {
   "cell_type": "markdown",
   "metadata": {},
   "source": [
    "## Walla\n",
    "Walla is industry parlance for indistinct dialogue used to make a crowded scene sound alive. It's (allegedly) named so because background extras could simulate this by saying \"walla walla walla\" over and over. These days, extras stay quiet during shooting and walla is just inserted as part of the sound mix.\n",
    "\n",
    "We can look for subtitle descriptions of walla, like \"indistinct conversation\"."
   ]
  },
  {
   "cell_type": "code",
   "execution_count": 18,
   "metadata": {},
   "outputs": [],
   "source": [
    "subs = pysrt.open('../subtitles/plus_one_2019.srt')\n",
    "subtitle_df = generate_base_subtitle_df(subs)\n",
    "subtitle_df = generate_subtitle_features(subtitle_df)\n",
    "subtitle_df['cleaned_text'] = subtitle_df['concat_sep_text'].map(clean_line)\n",
    "sentences = partition_sentences(remove_blanks(subtitle_df['cleaned_text'].tolist()), nlp)\n",
    "subtitle_indices = tie_sentence_subtitle_indices(sentences, subtitle_df)\n",
    "sentence_df = pd.DataFrame(list(zip(sentences, subtitle_indices)), columns=['sentence', 'subtitle_indices'])"
   ]
  },
  {
   "cell_type": "code",
   "execution_count": 19,
   "metadata": {},
   "outputs": [
    {
     "data": {
      "text/plain": [
       "'Indistinct conversations'"
      ]
     },
     "execution_count": 19,
     "metadata": {},
     "output_type": "execute_result"
    }
   ],
   "source": [
    "parenthetical = subtitle_df.iloc[816].parenthetical\n",
    "parenthetical"
   ]
  },
  {
   "cell_type": "code",
   "execution_count": 20,
   "metadata": {},
   "outputs": [],
   "source": [
    "walla_parentheticals = ['indistinct conversation', 'chatter']"
   ]
  },
  {
   "cell_type": "code",
   "execution_count": 21,
   "metadata": {},
   "outputs": [
    {
     "name": "stdout",
     "output_type": "stream",
     "text": [
      "walla found\n"
     ]
    }
   ],
   "source": [
    "for dialogue in restaurant_dialogue:\n",
    "    if dialogue in sentence.lower():\n",
    "        print('walla found')"
   ]
  }
 ],
 "metadata": {
  "kernelspec": {
   "display_name": "Python (moviegoer)",
   "language": "python",
   "name": "moviegoer"
  },
  "language_info": {
   "codemirror_mode": {
    "name": "ipython",
    "version": 3
   },
   "file_extension": ".py",
   "mimetype": "text/x-python",
   "name": "python",
   "nbconvert_exporter": "python",
   "pygments_lexer": "ipython3",
   "version": "3.7.7"
  }
 },
 "nbformat": 4,
 "nbformat_minor": 4
}
