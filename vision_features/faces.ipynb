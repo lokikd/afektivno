{
 "cells": [
  {
   "cell_type": "markdown",
   "metadata": {},
   "source": [
    "# faces\n",
    "We can extract a few more features from each frame by using the `face_recognition` library to find and analyze faces."
   ]
  },
  {
   "cell_type": "code",
   "execution_count": 1,
   "metadata": {},
   "outputs": [],
   "source": [
    "import face_recognition\n",
    "import os\n",
    "from vision_features_io import *"
   ]
  },
  {
   "cell_type": "markdown",
   "metadata": {},
   "source": [
    "# Finding Faces\n",
    "We can load an image and find the locations of each detected face. We've defined a function to simplify this called `face_locations` in `vision_features_io.py`. The number of faces can be stored as a feature in the frame-level DataFrame."
   ]
  },
  {
   "cell_type": "code",
   "execution_count": 2,
   "metadata": {},
   "outputs": [],
   "source": [
    "film = 'booksmart'\n",
    "frame = 170\n",
    "frame_folder = os.path.join('../frame_per_second', film)\n",
    "img_path = frame_folder + '/' + film + '_frame' + str(frame) + '.jpg'"
   ]
  },
  {
   "cell_type": "code",
   "execution_count": 3,
   "metadata": {},
   "outputs": [
    {
     "name": "stdout",
     "output_type": "stream",
     "text": [
      "Found 1 face(s) in frame 170\n"
     ]
    }
   ],
   "source": [
    "image = face_recognition.load_image_file(img_path)\n",
    "locations = face_recognition.face_locations(image, number_of_times_to_upsample=1)\n",
    "\n",
    "print('Found ' + str(len(locations)) + ' face(s) in frame ' + str(frame))"
   ]
  },
  {
   "cell_type": "markdown",
   "metadata": {},
   "source": [
    "# Face Locations\n",
    "When we use `face_recognition.face_locations()` to find the locations, we're returned with a square bounding box which encompasses a character's face. We can see if either of the two rule-of-thirds points falls within this bounding box."
   ]
  },
  {
   "cell_type": "code",
   "execution_count": 4,
   "metadata": {},
   "outputs": [
    {
     "name": "stdout",
     "output_type": "stream",
     "text": [
      "Found 1 face(s) in frame 170\n"
     ]
    }
   ],
   "source": [
    "locations = face_locations('booksmart', 170)"
   ]
  },
  {
   "cell_type": "markdown",
   "metadata": {},
   "source": [
    "In this example, we've located a single face. A list is returned, and we can access the bounding box by accessing the first (and only) item. The bounding box has four values: top, right, bottom, left edges of the bounding box, measured in pixels, starting from the top-left corner."
   ]
  },
  {
   "cell_type": "code",
   "execution_count": 5,
   "metadata": {
    "scrolled": true
   },
   "outputs": [
    {
     "data": {
      "text/plain": [
       "(82, 411, 211, 282)"
      ]
     },
     "execution_count": 5,
     "metadata": {},
     "output_type": "execute_result"
    }
   ],
   "source": [
    "character = locations[0] # top, right, bottom, left\n",
    "character"
   ]
  },
  {
   "cell_type": "markdown",
   "metadata": {},
   "source": [
    "## Thirds Points\n",
    "We can also identify where faces are present in the frame. Typically in a dialogue scene, a cinematographer will position the camera so a character lines up with one of two rule-of-thirds points. Instead of positioning a character so they're smack-dab in the center of frame, it's more dynamic if they're at two-thirds of the frame height, and one-third width away from the left- or right-edge.\n",
    "\n",
    "We can calculate the coordinates for the left and right thirds points using a previously-defined function in the `dimensions` notebook.\n",
    "- Left third point: (one-third the frame width from the left, one-third the frame height from the top)\n",
    "- Right third point: (two-thirds the frame width from the left, one-third the frame height from the top)"
   ]
  },
  {
   "cell_type": "code",
   "execution_count": 6,
   "metadata": {},
   "outputs": [
    {
     "name": "stdout",
     "output_type": "stream",
     "text": [
      "(285, 119)\n",
      "(569, 119)\n"
     ]
    }
   ],
   "source": [
    "frame = load_frame('booksmart', 170)\n",
    "left_thirds_point = thirds_points(frame)[0]\n",
    "right_thirds_point = thirds_points(frame)[1]\n",
    "print(left_thirds_point)\n",
    "print(right_thirds_point)"
   ]
  },
  {
   "cell_type": "markdown",
   "metadata": {},
   "source": [
    "We'll check if this face is aligned at the left thirds point. We take the X and Y coordinates of the left thirds point and see if it lies within the bounding box of the face. "
   ]
  },
  {
   "cell_type": "code",
   "execution_count": 7,
   "metadata": {},
   "outputs": [
    {
     "name": "stdout",
     "output_type": "stream",
     "text": [
      "face is vertically aligned at left thirds point\n"
     ]
    }
   ],
   "source": [
    "if character[0] <= left_thirds_point[1] <= character[2]: # bottom of face bounding box < left thirds point X < top of face bounding box\n",
    "    print('face is vertically aligned at left thirds point')"
   ]
  },
  {
   "cell_type": "code",
   "execution_count": 8,
   "metadata": {
    "scrolled": true
   },
   "outputs": [
    {
     "name": "stdout",
     "output_type": "stream",
     "text": [
      "face is horizontally aligned at left thirds point\n"
     ]
    }
   ],
   "source": [
    "if character[3] <= left_thirds_point[0] <= character[1]: # right edge of face bounding box < left thirds point Y < left edge of face bounding box\n",
    "    print('face is horizontally aligned at left thirds point')"
   ]
  },
  {
   "cell_type": "markdown",
   "metadata": {},
   "source": [
    "We can combine these two code blocks and turn them into two functions, one each for the left and right thirds points."
   ]
  },
  {
   "cell_type": "code",
   "execution_count": 9,
   "metadata": {},
   "outputs": [
    {
     "name": "stdout",
     "output_type": "stream",
     "text": [
      "face is at left thirds point\n"
     ]
    }
   ],
   "source": [
    "if character[0] <= left_thirds_point[1] <= character[2] and character[3] <= left_thirds_point[0] <= character[1]:\n",
    "    print('face is at left thirds point')"
   ]
  },
  {
   "cell_type": "code",
   "execution_count": 10,
   "metadata": {},
   "outputs": [],
   "source": [
    "if character[0] <= right_thirds_point[1] <= character[2] and character[3] <= right_thirds_point[0] <= character[1]:\n",
    "    print('face is at right thirds point')"
   ]
  },
  {
   "cell_type": "markdown",
   "metadata": {},
   "source": [
    "# Primary Character\n",
    "If there are multiple characters onscreen, it's helpful to know if one of them is the primary focus of the shot. For now, we can declare that a frame has a primary character is in the foreground, or closer to the camera, in a sense. If their face (and face's bounding box) is significantly larger than the other faces in frame, we can say that they're the primary character.\n",
    "\n",
    "When we get a list of face locations, they're sorted by size. The first face in the list is always the largest."
   ]
  },
  {
   "cell_type": "code",
   "execution_count": 11,
   "metadata": {},
   "outputs": [
    {
     "name": "stdout",
     "output_type": "stream",
     "text": [
      "Found 2 face(s) in frame 157\n"
     ]
    }
   ],
   "source": [
    "locations = face_locations('booksmart', 157)"
   ]
  },
  {
   "cell_type": "markdown",
   "metadata": {},
   "source": [
    "When we get a list of face locations, they're sorted by size. The first face in the list is always the largest. Since the face bounding box is a square, we can compare their sizes by just looking at their width."
   ]
  },
  {
   "cell_type": "code",
   "execution_count": 12,
   "metadata": {},
   "outputs": [
    {
     "data": {
      "text/plain": [
       "2"
      ]
     },
     "execution_count": 12,
     "metadata": {},
     "output_type": "execute_result"
    }
   ],
   "source": [
    "len(locations) # two faces"
   ]
  },
  {
   "cell_type": "code",
   "execution_count": 13,
   "metadata": {},
   "outputs": [
    {
     "data": {
      "text/plain": [
       "155"
      ]
     },
     "execution_count": 13,
     "metadata": {},
     "output_type": "execute_result"
    }
   ],
   "source": [
    "locations[0][1] - locations[0][3] # box right edge - box right edge"
   ]
  },
  {
   "cell_type": "code",
   "execution_count": 14,
   "metadata": {},
   "outputs": [
    {
     "data": {
      "text/plain": [
       "155"
      ]
     },
     "execution_count": 14,
     "metadata": {},
     "output_type": "execute_result"
    }
   ],
   "source": [
    "locations[1][1] - locations[1][3]"
   ]
  },
  {
   "cell_type": "markdown",
   "metadata": {},
   "source": [
    "These characters's faces have the same width, so we won't declare a primary character.\n",
    "\n",
    "In the next example, we have a frame with three characters. One is in the driver seat of a car, speaking, and the other two are in the backseat. We should declare the driver the primary character. \n",
    "\n",
    "First we'll `pop` the first face from the list, since we know it's the largest. Then we'll want to see if it's significantly larger than the other faces. We've set a threshold of 75%: if the other faces' widths aren't greater than 75% of the first face's width, we delcare the first face the primary character of the frame."
   ]
  },
  {
   "cell_type": "code",
   "execution_count": 15,
   "metadata": {},
   "outputs": [
    {
     "name": "stdout",
     "output_type": "stream",
     "text": [
      "Found 3 face(s) in frame 2195\n"
     ]
    }
   ],
   "source": [
    "locations = face_locations('booksmart', 2195)"
   ]
  },
  {
   "cell_type": "code",
   "execution_count": 16,
   "metadata": {},
   "outputs": [
    {
     "data": {
      "text/plain": [
       "1"
      ]
     },
     "execution_count": 16,
     "metadata": {},
     "output_type": "execute_result"
    }
   ],
   "source": [
    "first_face = locations.pop(0)\n",
    "first_face_size = first_face[2] - first_face[0]\n",
    "primary_char_flag = 1\n",
    "primary_char_threshold = .75 # 75% of the first face\n",
    "for face in locations:\n",
    "    if face[2] - face[0] > (first_face_size * primary_char_threshold):\n",
    "        primary_char_flag = 0\n",
    "        \n",
    "primary_char_flag"
   ]
  }
 ],
 "metadata": {
  "kernelspec": {
   "display_name": "Python (moviegoer)",
   "language": "python",
   "name": "moviegoer"
  },
  "language_info": {
   "codemirror_mode": {
    "name": "ipython",
    "version": 3
   },
   "file_extension": ".py",
   "mimetype": "text/x-python",
   "name": "python",
   "nbconvert_exporter": "python",
   "pygments_lexer": "ipython3",
   "version": "3.7.7"
  }
 },
 "nbformat": 4,
 "nbformat_minor": 4
}
